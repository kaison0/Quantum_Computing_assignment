{
 "cells": [
  {
   "cell_type": "markdown",
   "id": "803f46e3",
   "metadata": {
    "jp-MarkdownHeadingCollapsed": true
   },
   "source": [
    "#### COMS 4281 - Intro to Quantum Computing \n",
    "\n",
    "# Problem Set 1, Quantum Info Basics\n",
    "\n",
    "### Due: October 10, 11:59pm\n",
    "Collaboration is allowed and encouraged (teams of at most 3).  Please read the syllabus carefully for the guidlines regarding collaboration.  In particular, everyone must write their own solutions in their own words.\n",
    "\n",
    "### AI Policy\n",
    "\n",
    "You may use AI/LLMs as a study aid, but not as a substitute for your own work. Quizzes and problem sets are practice for the midterm and final (70% of your grade), which you must do without any external help. Use AI wisely: ask it to explain, critique, or suggest alternatives — not just to give you the answer. Everything you submit must be something you understand and could explain to a peer without notes.\n",
    "\n",
    "### Write your collaborators here:\n",
    "\n",
    "$\\renewcommand{\\ket}[1]{\\left|{#1}\\right\\rangle} \\renewcommand{\\bra}[1]{\\left\\langle{#1}\\right|}$\n",
    "$\\renewcommand{\\C}{{\\mathbb{C}}}$\n",
    "$\\renewcommand{\\N}{{\\mathbb{N}}}$\n",
    "$\\renewcommand{\\Z}{{\\mathbb{Z}}}$\n",
    "\n",
    "\n",
    "### Recommended Environment to Run This Notebook\n",
    "\n",
    "We highly recommend that you use the [qBraid](http://www.qbraid.com) platform to run this Jupyter notebook. This supports Qiskit, and furthermore to render your Problem Set solutions to PDF, you have to do the following:\n",
    "\n",
    "1. File > Save and Export Notebook As > HTML\n",
    "2. Save the HTML file somewhere on your local computer\n",
    "3. Open the HTML file using your favorite browser, and Print to PDF. We recommend using Landscape mode so the Python code shows up better."
   ]
  },
  {
   "cell_type": "markdown",
   "id": "f8358dbe",
   "metadata": {
    "id": "f8358dbe"
   },
   "source": [
    "# Problem 1: Simulating Classical Circuits in Quantum Circuits\n",
    "\n",
    "In this problem we will see that quantum computers can efficiently simulate classical computers, so anything a classical computer can do, so can a quantum computer. We will get hands on experience with how to translate classical circuits to quantum circuits."
   ]
  },
  {
   "attachments": {},
   "cell_type": "markdown",
   "id": "1227c331-ce56-4400-b146-c9f8d9f17d8a",
   "metadata": {
    "id": "21156d0a"
   },
   "source": [
    "__a)__. The basic components of a classical (non-reversible) circuit include AND, XOR, NOT gates. You may recall from some other CS/EE class that every classical circuit can be built from a combination of AND, XOR, NOT gates (in fact, AND and NOT suffice). \n",
    "\n",
    "We can't use AND gates in a quantum circuit because they're not reversible, but we can use a _reversible_ version of AND. Let $R_\\wedge$ denote the 3-bit reversible version of AND, which is the map $(a,b,c) \\mapsto (a,b,c \\oplus a \\wedge b)$. This is also known as the TOFFOLI gate.\n",
    "\n",
    "Fill in Python code between \"### YOUR CODE BEGINS ###\" and \"### YOUR CODE ENDS ####\" to implement TOFFOLI. The inputs are three binary bits, and the outputs should be three binary bits. Your solution should be no more than 3 lines of code.\n",
    "\n",
    "While you're at it, also fill in the code for CNOT, which maps $(a,b) \\mapsto (a,a \\oplus b)$ and X, which maps $a \\mapsto \\neg a$."
   ]
  },
  {
   "cell_type": "markdown",
   "id": "9044b5c0-d7dd-43bf-a468-122586f8e16e",
   "metadata": {
    "id": "6258e6b4"
   },
   "source": [
    "Run the following code to print out the truth-table of your reversible AND (i.e. TOFFOLI) function:"
   ]
  },
  {
   "cell_type": "code",
   "execution_count": 20,
   "id": "f6a607dc-d783-431f-9ba9-6b37c002fe97",
   "metadata": {
    "id": "6258e6b4"
   },
   "outputs": [],
   "source": [
    "def TOFFOLI(a,b,c):\n",
    "\n",
    "    ### YOUR CODE BEGINS ####\n",
    "    c = c ^ (a & b)\n",
    "    ### YOUR CODE ENDS ###\n",
    "    return (a,b,c)\n",
    "\n",
    "def CNOT(a,b):\n",
    "    ### YOUR CODE BEGINS ####\n",
    "    b = a ^ b\n",
    "    ### YOUR CODE ENDS ###\n",
    "    return a,b\n",
    "\n",
    "def X(a):\n",
    "    ### YOUR CODE BEGINS ####\n",
    "    a = a ^ 1\n",
    "    ### YOUR CODE ENDS ###\n",
    "    return a\n",
    "    "
   ]
  },
  {
   "cell_type": "code",
   "execution_count": 21,
   "id": "6a96acb4-7290-4e8c-924e-bdcc16775060",
   "metadata": {
    "id": "6258e6b4"
   },
   "outputs": [
    {
     "name": "stdout",
     "output_type": "stream",
     "text": [
      " a b c  ->  a' b' c' \n",
      " 0 0 0  ->   0 0 0\n",
      " 0 0 1  ->   0 0 1\n",
      " 0 1 0  ->   0 1 0\n",
      " 0 1 1  ->   0 1 1\n",
      " 1 0 0  ->   1 0 0\n",
      " 1 0 1  ->   1 0 1\n",
      " 1 1 0  ->   1 1 1\n",
      " 1 1 1  ->   1 1 0\n"
     ]
    }
   ],
   "source": [
    "import itertools\n",
    "\n",
    "print(\" a b c  ->  a' b' c' \")\n",
    "for a, b, c in itertools.product([0,1], repeat=3):\n",
    "    a_out, b_out, c_out = TOFFOLI(a, b, c)\n",
    "    print(f\" {a} {b} {c}  ->   {a_out} {b_out} {c_out}\")"
   ]
  },
  {
   "attachments": {},
   "cell_type": "markdown",
   "id": "55525ca5-904c-44e8-9182-54c2c205a0d8",
   "metadata": {
    "id": "6258e6b4"
   },
   "source": [
    "__b)__. Consider the 3-bit function known as the \"2-to-1 multiplexer\", or 2TO1MUX, which maps $(x_0,x_1,b)$ to $x_b$. In other words, the last bit is a \"selector bit\" that chooses to output the first or second bit.\n",
    "\n",
    "The following circuit diagram shows a classic way to implement this using AND, OR, and NOT gates. Note that the input bit $b$ gets copied into two wires in the beginning.\n",
    "\n",
    "<img src=\"mux.png\" width=350 />\n",
    "\n",
    "Now, implement 2TO1MUX as a **reversible circuit**, by converting each of the AND/OR/NOT gates above into reversible equivalents, using only `TOFFOLI`, `CNOT`, and `X` as basic gates. You should introduce extra ancilla bits. In the end, you should have designed a reversible circuit that computes the following:\n",
    "\n",
    "$$ (x_0,x_1,b,c,\\cdots,0) \\mapsto (x_0,x_1,b,c \\oplus x_b, junk)$$\n",
    "\n",
    "where $c$ denotes the target bit, the $0,\\cdots,0$ bits denote the ancilla bits being set to $0$. The target bit should have the final answer $c \\oplus x_b$ and the ancilla bits will contain any scratch work (denoted \"junk\"). We don't care what value \"junk\" is."
   ]
  },
  {
   "cell_type": "code",
   "execution_count": 24,
   "id": "0a8ea321-2fac-481d-b186-292e9144a457",
   "metadata": {
    "id": "6258e6b4"
   },
   "outputs": [],
   "source": [
    "def reversible_2TO1MUX(x0,x1,b,c,ancs):\n",
    "    \"\"\"\n",
    "    x0, x1 : data inputs\n",
    "    b      : selector\n",
    "    c      : target bit\n",
    "    ancs   : list of ancillas\n",
    "    \"\"\"    \n",
    "    # ancs is just a list of however many ancillas you passed in\n",
    "    # e.g. if you called with 3 ancillas, ancs = [0,0,0]\n",
    "\n",
    "    # In your code, you can only call TOFFOLI, CNOT, and X\n",
    "    # on different subset of input bits and ancilla bits. You cannot perform \n",
    "    # any logic outside of calling these three functions!\n",
    "\n",
    "    # for example, all your lines should have the following form\n",
    "    # x0,b,ancs[0] = TOFFOLI(x0,b,ancs[0])\n",
    "    # ancs[1] = X(ancs[1])\n",
    "    # i.e., the inputs arguments should also match the output arguments.\n",
    "\n",
    "    # Important note: the only variables you can use are x0,x1,b,c, and the ancs array. \n",
    "    # You CANNOT create any new variables aside from these!\n",
    "\n",
    "    ### YOUR CODE BEGINS ####\n",
    "    # a or b = X(TOFFOLI(X(a), X(b)))\n",
    "    x1, b, ancs[1] = TOFFOLI(x1, b, ancs[1])\n",
    "    b = X(b)\n",
    "    x0, b, ancs[0] = TOFFOLI(x0, b, ancs[0])\n",
    "    # c xor (ancs[0] or ancs[1]) = c xor (~(~ancs[0] and ~ancs[1]))\n",
    "    # = (~c xor (~ancs))\n",
    "    ancs[0] = X(ancs[0])\n",
    "    ancs[1] = X(ancs[1])\n",
    "    c = X(c)\n",
    "    ancs[0], ancs[1], c = TOFFOLI(ancs[0], ancs[1], c)\n",
    "    b = X(b)\n",
    "\n",
    "    ### YOUR CODE ENDS ####\n",
    "    \n",
    "    return (x0,x1,b,c,ancs)"
   ]
  },
  {
   "cell_type": "markdown",
   "id": "cd11160a-814f-4ff4-9514-cf2348a50c05",
   "metadata": {
    "id": "6258e6b4"
   },
   "source": [
    "The following will print out the truth table of your reversible 2-to-1 multiplexer implementation, when the target bit `c` and the ancilla bits `ancs` are set to 0 to begin with. You'll need to set `NUM_ANCILLAS` below to the correct number. "
   ]
  },
  {
   "cell_type": "code",
   "execution_count": 25,
   "id": "e26ff098-d315-483a-96fc-7ee56710774f",
   "metadata": {
    "id": "6258e6b4"
   },
   "outputs": [
    {
     "name": "stdout",
     "output_type": "stream",
     "text": [
      " x0 x1 b ->  x0 x1 b c ancillas\n",
      " 0 0 0  ->   (0, 0, 0, 0, [1, 1])\n",
      " 0 0 1  ->   (0, 0, 1, 0, [1, 1])\n",
      " 0 1 0  ->   (0, 1, 0, 0, [1, 1])\n",
      " 0 1 1  ->   (0, 1, 1, 1, [1, 0])\n",
      " 1 0 0  ->   (1, 0, 0, 1, [0, 1])\n",
      " 1 0 1  ->   (1, 0, 1, 0, [1, 1])\n",
      " 1 1 0  ->   (1, 1, 0, 1, [0, 1])\n",
      " 1 1 1  ->   (1, 1, 1, 1, [1, 0])\n"
     ]
    }
   ],
   "source": [
    "### YOUR CODE BEGINS ###\n",
    "\n",
    "NUM_ANCILLAS = 2\n",
    "\n",
    "### YOUR CODE ENDS ###\n",
    "\n",
    "print(\" x0 x1 b ->  x0 x1 b c ancillas\")\n",
    "\n",
    "for x0, x1, b in itertools.product([0,1], repeat=3):\n",
    "    c = 0\n",
    "    ancs = [0] * NUM_ANCILLAS   # e.g. [0,0,0] if NUM_ANCILLAS=3\n",
    "    outputs = reversible_2TO1MUX(x0, x1, b, c, ancs)\n",
    "\n",
    "    # outputs is a tuple: (x0', x1', b', c', ancilla1', ancilla2', ...)\n",
    "    print(f\" {x0} {x1} {b}  ->   {outputs}\")\n",
    "    "
   ]
  },
  {
   "cell_type": "markdown",
   "id": "694686ed-8e97-40a9-9fd0-3f2d9466b2a2",
   "metadata": {
    "id": "6258e6b4"
   },
   "source": [
    "__c)__. In your implementation, your ancilla bits likely contain some junk data that depends on the inputs. It would be nice to clean up the scratch work so that the ancillas return to zero (we assume they started in the zero state), so that \n",
    "\n",
    "$$ (x_0,x_1,b,0,\\cdots,0) \\mapsto (x_0,x_1,b,x_b, 0,\\cdots,0)$$\n",
    "\n",
    "This is called \"clean computation\", for obvious reasons. We will figure out a way to generically convert an unclean implementation of `reversible_2TO1MUX` into a clean one. "
   ]
  },
  {
   "cell_type": "markdown",
   "id": "00cb8684-6b7a-4876-9830-d52f61d7185f",
   "metadata": {
    "id": "6258e6b4"
   },
   "source": [
    "First, we need to implement the _inverse_ transformation of `reversible_2TO1MUX`. That is, first performing `reversible_2TO1MUX` and then `reversible_2TO1MUX_inverse` should yield the identity transformation on _all_ bits (including the target and ancilla bits). \n",
    "\n",
    "Implement the inverse below. Note: it is unlikely your implementation of `reversible_2TO1MUX` is its own inverse!"
   ]
  },
  {
   "cell_type": "code",
   "execution_count": 26,
   "id": "ede9b48d-670f-46d2-a170-e558fe8566f8",
   "metadata": {
    "id": "6258e6b4"
   },
   "outputs": [],
   "source": [
    "def reversible_2TO1MUX_inverse(x0,x1,b,c,ancs):\n",
    "    \"\"\"\n",
    "    x0, x1 : data inputs\n",
    "    b      : selector\n",
    "    c      : target bit\n",
    "    ancs   : list of ancillas\n",
    "    \"\"\"    \n",
    "    # ancs is just a list of however many ancillas you passed in\n",
    "    # e.g. if you called with 3 ancillas, ancs = [0,0,0]\n",
    "\n",
    "\n",
    "    # In your code, you can only call TOFFOLI, CNOT, and X\n",
    "    # on different subset of input bits and ancilla bits. You cannot perform \n",
    "    # any logic outside of calling these three functions!\n",
    "\n",
    "    ### YOUR CODE BEGINS ####\n",
    "    c = X(c)\n",
    "    ancs[0], ancs[1], c = TOFFOLI(ancs[0], ancs[1], c)\n",
    "\n",
    "    ancs[1] = X(ancs[1])\n",
    "    x1, b, ancs[1] = TOFFOLI(x1, b, ancs[1])\n",
    "    \n",
    "    ancs[0] = X(ancs[0])\n",
    "    b = X(b)\n",
    "    x0, b, ancs[0] = TOFFOLI(x0, b, ancs[0])\n",
    "    b = X(b)\n",
    "    ### YOUR CODE ENDS ####\n",
    "    \n",
    "    return (x0,x1,b,c,ancs)"
   ]
  },
  {
   "cell_type": "markdown",
   "id": "f22f55ed-a3bb-43a1-9090-29fbcf4e7b82",
   "metadata": {
    "id": "6258e6b4"
   },
   "source": [
    "The following code will check whether your inverse implementation works."
   ]
  },
  {
   "cell_type": "code",
   "execution_count": 27,
   "id": "2d50182d-8532-4016-a31c-caa8d7a76ed5",
   "metadata": {
    "id": "6258e6b4"
   },
   "outputs": [
    {
     "name": "stdout",
     "output_type": "stream",
     "text": [
      "Checking reversible_2TO1MUX followed by its inverse equals identity...\n",
      "OK!\n"
     ]
    }
   ],
   "source": [
    "print(\"Checking reversible_2TO1MUX followed by its inverse equals identity...\")\n",
    "ok = True\n",
    "for x0, x1, b in itertools.product([0,1], repeat=3):\n",
    "    c = 0\n",
    "    ancs = [0] * NUM_ANCILLAS   # e.g. (0,0,0) if NUM_ANCILLAS=3\n",
    "    \n",
    "    x0_copy,x1_copy,b_copy,c_copy,ancs_copy = reversible_2TO1MUX(x0, x1, b, c, ancs)\n",
    "    x0_copy,x1_copy,b_copy,c_copy,ancs_copy = reversible_2TO1MUX_inverse(x0_copy,x1_copy,b_copy,c_copy,ancs_copy)\n",
    "\n",
    "    if (x0_copy != x0) or (x1_copy != x1) or (b_copy != b) or (c_copy != c) or (ancs_copy != ancs):\n",
    "        ok = False\n",
    "        print(\"Mismatch\")\n",
    "        \n",
    "print(\"OK!\" if ok else \"Found mismatches.\")"
   ]
  },
  {
   "cell_type": "markdown",
   "id": "fb2b50b7-f3bc-4e78-bc21-cf12e53eb7a5",
   "metadata": {
    "id": "6258e6b4"
   },
   "source": [
    "__d)__. Now implement a clean version of 2TO1MUX, by only making calls to `reversible_2TO1MUX`, `reversible_2TO1MUX_inverse`, and one call to `CNOT`. You should introduce at least one extra ancilla bit."
   ]
  },
  {
   "cell_type": "code",
   "execution_count": 28,
   "id": "952c2758-5fa1-45ec-a1ee-a03b84eb6594",
   "metadata": {
    "id": "6258e6b4"
   },
   "outputs": [],
   "source": [
    "def reversible_2TO1MUX_clean(x0,x1,b,c,ancs):\n",
    "    \"\"\"\n",
    "    x0, x1 : data inputs\n",
    "    b      : selector\n",
    "    c      : target bit\n",
    "    ancs   : list of ancillas\n",
    "    \"\"\"    \n",
    "    # ancs is just a list of however many ancillas you passed in\n",
    "    # e.g. if you called with 3 ancillas, ancs = [0,0,0]\n",
    "\n",
    "\n",
    "    # In your code, you can only make a call to reversible_2TO1MUX,\n",
    "    # reversible_2TO1MUX_inverse, and CNOT. No other gates are allowed.\n",
    "\n",
    "    ### YOUR CODE BEGINS ####\n",
    "    x0, x1, b, c, ancs[:2] = reversible_2TO1MUX(x0, x1, b, c, ancs[:2])\n",
    "    c, ancs[2] = CNOT(c, ancs[2])\n",
    "    x0, x1, b, ancs[2], ancs[:2] = reversible_2TO1MUX_inverse(x0, x1, b, ancs[2], ancs[:2])\n",
    "\n",
    "    ### YOUR CODE ENDS ####\n",
    "    \n",
    "    return (x0,x1,b,c,ancs)"
   ]
  },
  {
   "cell_type": "markdown",
   "id": "8a4e92af-f78f-458e-a73c-dbb535e57134",
   "metadata": {
    "id": "6258e6b4"
   },
   "source": [
    "The following will print out the truth table; use this to check your work. The ancilla bits should end up all zeroes at the end. Set `NUM_ANCILLAS_CLEAN` to the right number."
   ]
  },
  {
   "cell_type": "code",
   "execution_count": 29,
   "id": "bdbd2b82-d91e-4eab-a67a-0b75d160c3dc",
   "metadata": {
    "id": "6258e6b4"
   },
   "outputs": [
    {
     "name": "stdout",
     "output_type": "stream",
     "text": [
      " x0 x1 b ->  x0 x1 b c ancillas\n",
      " 0 0 0  ->   (0, 0, 0, 0, [0, 0, 0])\n",
      " 0 0 1  ->   (0, 0, 1, 0, [0, 0, 0])\n",
      " 0 1 0  ->   (0, 1, 0, 0, [0, 0, 0])\n",
      " 0 1 1  ->   (0, 1, 1, 1, [0, 0, 0])\n",
      " 1 0 0  ->   (1, 0, 0, 1, [0, 0, 0])\n",
      " 1 0 1  ->   (1, 0, 1, 0, [0, 0, 0])\n",
      " 1 1 0  ->   (1, 1, 0, 1, [0, 0, 0])\n",
      " 1 1 1  ->   (1, 1, 1, 1, [0, 0, 0])\n"
     ]
    }
   ],
   "source": [
    "### YOUR CODE BEGINS ###\n",
    "\n",
    "NUM_ANCILLAS_CLEAN = 3\n",
    "\n",
    "### YOUR CODE ENDS ###\n",
    "\n",
    "print(\" x0 x1 b ->  x0 x1 b c ancillas\")\n",
    "\n",
    "for x0, x1, b in itertools.product([0,1], repeat=3):\n",
    "    c = 0\n",
    "    ancs = [0] * NUM_ANCILLAS_CLEAN   # e.g. (0,0,0) if NUM_ANCILLAS=3\n",
    "    outputs = reversible_2TO1MUX_clean(x0, x1, b, c, ancs)\n",
    "\n",
    "    # outputs is a tuple: (x0', x1', b', c', ancilla1', ancilla2', ...)\n",
    "    print(f\" {x0} {x1} {b}  ->   {outputs}\")\n",
    "    "
   ]
  },
  {
   "cell_type": "markdown",
   "id": "2dbdf81e-9eed-451a-989f-fbe7d5cca429",
   "metadata": {
    "id": "6258e6b4"
   },
   "source": [
    "__e)__. Let's generalize this. Suppose you're given a classical circuit $C$, consisting of AND, NOT gates, that acts on $n$ input bits $(x_1,\\ldots,x_n)$, and computes a boolean function $f:\\{0,1\\}^n \\to \\{0,1\\}$. Suppose there are $r$ AND gates, $s$ NOT gates, and $t$ \"fan-out\" operations (i.e., a wire gets split into two wires carrying the same value). \n",
    "\n",
    "Suppose you convert this to a reversible circuit that computes $R_f$ cleanly, and this circuit uses TOFFOLI, CNOT, and X gates. \n",
    "\n",
    "1. How many TOFFOLI gates did you use?\n",
    "2. How many CNOT gates did you use?\n",
    "3. How many X gates did you use?\n",
    "4. How many ancilla bits did you introduce in total?\n",
    "\n",
    "Give a precise count in terms of $r,s,t$ and explain your reasoning."
   ]
  },
  {
   "cell_type": "markdown",
   "id": "f868d363-3763-48c0-908f-a9f88554ab88",
   "metadata": {
    "id": "6258e6b4"
   },
   "source": [
    "### Your solution ###\n",
    "\n",
    "1. $r$ TOFFOLI gates. 1 TOFFOLI and 1 extra bit is corresponding to 1 AND gate\n",
    "2. $t$ CNOT gates. 1 CNOT gate and 1 extra bit is corresponding to 1 \"fan-out\" operation.\n",
    "3. $s$ X gates. 1 X gate is corresponding to 1 NOT gate.\n",
    "4. According to 1. and 2., the circuit $r + t$ extra bits but one of them is the input bit to save output. So I introduce $r + t - 1$ ancilla bits in total"
   ]
  },
  {
   "cell_type": "markdown",
   "id": "bceb1bf8-d2ec-459e-b3bb-55d288125bec",
   "metadata": {
    "id": "6258e6b4"
   },
   "source": [
    "# Problem 2: No-Cloning"
   ]
  },
  {
   "cell_type": "markdown",
   "id": "d11fc15c-d8fb-4b05-a139-0b622ee59b69",
   "metadata": {},
   "source": [
    "__a)__. Let $\\ket{a} = \\alpha_0 \\ket{0} + \\alpha_1 \\ket{1}$ and $\\ket{b} = \\beta_0 \\ket{0} + \\beta_1 \\ket{1}$ be qubit states. Suppose that $|\\langle a | b \\rangle| \\notin \\{0,1\\}$, i.e., they are not orthogonal nor identical up to phase.\n",
    "\n",
    "Prove that there is no 2-qubit unitary $U$ that clones $\\{\\ket{a},\\ket{b}\\}$, i.e., \n",
    "$$\n",
    "    U\\ket{a} \\ket{0} = \\ket{a} \\ket{a} \\qquad \\text{and} \\qquad U \\ket{b} \\ket{0} = \\ket{b} \\ket{b}\n",
    "$$\n"
   ]
  },
  {
   "cell_type": "markdown",
   "id": "4386e8e5-5efd-4b8e-bdbb-92e76745f997",
   "metadata": {},
   "source": [
    "### Your solution ###\n",
    "\n",
    "Assume there is unitary $U$, which let $U|a\\rangle|0\\rangle = |a\\rangle|a\\rangle (1)$ and $U|b\\rangle|0\\rangle = |b\\rangle|b\\rangle(2)$ valid.\n",
    "$U|a\\rangle|0\\rangle = |a\\rangle|a\\rangle$ \n",
    "\n",
    "Conjugate tranpose $(2)$ and get $\\langle 0| \\langle b| U^{\\dagger}=\\langle b| \\langle b | (3)$\n",
    "\n",
    "Mulitiply the lhs and rhs of $(2)$ and $(3)$ equation and get\n",
    "\n",
    "$\\langle 0| \\langle b| U^{\\dagger} U |a\\rangle |0\\rangle=\\langle b|\\langle b|a\\rangle|a\\rangle$ \n",
    "\n",
    "$\\langle b|a \\rangle \\langle 0|0 \\rangle = \\langle b|a \\rangle \\langle b|a \\rangle$ \n",
    "\n",
    "$\\langle b|a\\rangle (1 - \\langle b|a \\rangle) = 0 (4)$\n",
    "\n",
    "Since $\\langle a|b \\rangle \\notin \\{0, 1\\}$, Equation 4 doesn't hold.\n",
    "\n",
    "So the assumption is false and there is no 2-qubit unitary $U$ that clones ${|a\\rangle, |b\\rangle}$.\n",
    "\n"
   ]
  },
  {
   "cell_type": "markdown",
   "id": "f337b835-77bc-44df-87f5-8a3f2e56b09c",
   "metadata": {},
   "source": [
    "__b)__. Now suppose $\\langle a | b \\rangle = 0$, i.e, they are orthogonal, and thus $\\{ \\ket{a}, \\ket{b} \\}$ forms a basis for $\\mathbb{C}^2$.\n",
    "\n",
    "Prove that there exists a 2-qubit unitary $U$ that clones $\\{ \\ket{a},\\ket{b} \\}$ by writing out a $4 \\times 4$ matrix that accomplishes this (what is written in part __(a)__)."
   ]
  },
  {
   "cell_type": "markdown",
   "id": "f97bdddc-57be-4e9d-b419-0db6b33aa4c5",
   "metadata": {},
   "source": [
    "### Your solution ###\n",
    "\n",
    "Since $\\{|a\\rangle, |b\\rangle\\}$ froms a basis for $\\mathbb{C}^2$, there is 1-qubit unitray $W$ that $\\ket{a}=W\\ket{0}, W\\ket{b}=W\\ket{1}$.\n",
    "$W = \\begin{bmatrix} \\alpha_0 & \\beta_0 \\\\ \\alpha_1 & \\beta_1 \\end{bmatrix}$\n",
    "\n",
    "$\\begin{gather}\n",
    "\\text{CNOT}\\ket{0}\\ket{0}=\\ket{0}\\ket{0} \\\\\n",
    "\\text{CNOT} (W^{\\dagger}\\ket{a} \\otimes \\ket{0}) = W^{\\dagger}\\ket{a} \\otimes W^\\dagger\\ket{a} \\\\\n",
    "\\text{CNOT} (W^{\\dagger} \\otimes I) \\ket{a}\\ket{0}= W^\\dagger \\otimes W^\\dagger \\ket{a}\\ket{a} \\\\\n",
    "(W \\otimes W) \\text{CNOT} (W^{\\dagger} \\otimes I) \\ket{a}\\ket{0} = \\ket{a}\\ket{a}\n",
    "\\end{gather}$\n",
    "\n",
    "In the same way, we can get $(W \\otimes W) \\text{CNOT} (W^{\\dagger} \\otimes I) \\ket{b}\\ket{0} = \\ket{b}\\ket{b}$\n",
    "\n",
    "In conclusion, $U= (W \\otimes W) \\text{CNOT} (W^{\\dagger} \\otimes I) = $"
   ]
  },
  {
   "cell_type": "markdown",
   "id": "0217f2cd-babb-473a-be11-e467c116d290",
   "metadata": {},
   "source": [
    "__c)__. Write a $2 \\times 2$ unitary matrix $V$ (in terms of the states $\\ket{a},\\ket{b}$) such that, for the $U$ you wrote down in part __(b)__ above,\n",
    "\n",
    "$$ U = (V^\\dagger \\otimes V^\\dagger) CNOT (V \\otimes I) $$\n",
    "\n",
    "where the first qubit of CNOT is the control and the second qubit is the target.\n",
    "\n",
    "**Hint**: think of $V$ as a change of basis."
   ]
  },
  {
   "cell_type": "markdown",
   "id": "073b171c-ddac-4332-98d4-8ce6cec52051",
   "metadata": {},
   "source": [
    "### Your solution ###\n",
    "\n",
    "$V=W^\\dagger=\\begin{bmatrix} \\alpha_0^* & \\alpha_1^* \\\\ \\beta_0^* & \\beta_1^* \\end{bmatrix}$"
   ]
  },
  {
   "cell_type": "markdown",
   "id": "60fd7059-a3fb-49a2-98c3-a7ee4387613e",
   "metadata": {},
   "source": [
    "# Problem 3: Preparing quantum states\n",
    "\n",
    "In each part, construct a circuit starting with the all zeroes state, measure all qubits in the computational basis, run ~2000–5000 shots on AerSimulator, and plot a histogram of outcomes. The following is helper code for simulating a given circuit and visualizing the measurement outcomes.\n",
    "\n",
    "You are encouraged to consult Qiskit documentation, but avoid using AI to write your code."
   ]
  },
  {
   "cell_type": "code",
   "execution_count": 5,
   "id": "98b645c8-ce01-483b-b0e9-978961c14bdc",
   "metadata": {},
   "outputs": [
    {
     "name": "stdout",
     "output_type": "stream",
     "text": [
      "\n",
      "\u001b[1m[\u001b[0m\u001b[34;49mnotice\u001b[0m\u001b[1;39;49m]\u001b[0m\u001b[39;49m A new release of pip is available: \u001b[0m\u001b[31;49m25.1.1\u001b[0m\u001b[39;49m -> \u001b[0m\u001b[32;49m25.2\u001b[0m\n",
      "\u001b[1m[\u001b[0m\u001b[34;49mnotice\u001b[0m\u001b[1;39;49m]\u001b[0m\u001b[39;49m To update, run: \u001b[0m\u001b[32;49mpip install --upgrade pip\u001b[0m\n",
      "\n",
      "\u001b[1m[\u001b[0m\u001b[34;49mnotice\u001b[0m\u001b[1;39;49m]\u001b[0m\u001b[39;49m A new release of pip is available: \u001b[0m\u001b[31;49m25.1.1\u001b[0m\u001b[39;49m -> \u001b[0m\u001b[32;49m25.2\u001b[0m\n",
      "\u001b[1m[\u001b[0m\u001b[34;49mnotice\u001b[0m\u001b[1;39;49m]\u001b[0m\u001b[39;49m To update, run: \u001b[0m\u001b[32;49mpip install --upgrade pip\u001b[0m\n",
      "\n",
      "\u001b[1m[\u001b[0m\u001b[34;49mnotice\u001b[0m\u001b[1;39;49m]\u001b[0m\u001b[39;49m A new release of pip is available: \u001b[0m\u001b[31;49m25.1.1\u001b[0m\u001b[39;49m -> \u001b[0m\u001b[32;49m25.2\u001b[0m\n",
      "\u001b[1m[\u001b[0m\u001b[34;49mnotice\u001b[0m\u001b[1;39;49m]\u001b[0m\u001b[39;49m To update, run: \u001b[0m\u001b[32;49mpip install --upgrade pip\u001b[0m\n"
     ]
    }
   ],
   "source": [
    "!pip install qiskit > /dev/null\n",
    "!pip install qiskit_aer > /dev/null\n",
    "!pip install qiskit_ibm_runtime > /dev/null\n",
    "\n",
    "# Helper for measurement + histogram\n",
    "from qiskit import QuantumCircuit, QuantumRegister, ClassicalRegister, transpile\n",
    "from qiskit_aer import AerSimulator\n",
    "from qiskit.quantum_info import Statevector\n",
    "from qiskit.visualization import plot_histogram\n",
    "import numpy as np\n",
    "import random\n",
    "\n",
    "backend = AerSimulator()\n",
    "DEFAULT_SHOTS = 4096\n",
    "\n",
    "def run_and_hist(circ: QuantumCircuit, shots: int = DEFAULT_SHOTS):\n",
    "    tqc = transpile(circ, backend=backend)\n",
    "    result = backend.run(tqc, shots=shots).result()\n",
    "    counts = result.get_counts()\n",
    "    display(plot_histogram(counts))\n",
    "    return counts"
   ]
  },
  {
   "cell_type": "markdown",
   "id": "98d5e4a4-3382-47ba-9de4-db696afd9468",
   "metadata": {},
   "source": [
    "__a)__ Create a two-qubit circuit that prepares a Bell state\n",
    "$$\n",
    "    \\frac{1}{\\sqrt{2}} \\ket{01} - \\frac{1}{\\sqrt{2}} \\ket{10}\n",
    "$$\n",
    "using the gate set CNOT, H, X, and Z. "
   ]
  },
  {
   "cell_type": "code",
   "execution_count": 3,
   "id": "e628192b-5c31-4f4f-a240-0217805db511",
   "metadata": {},
   "outputs": [
    {
     "data": {
      "image/png": "[encoded data removed]",
      "text/plain": [
       "<Figure size 640x480 with 1 Axes>"
      ]
     },
     "metadata": {},
     "output_type": "display_data"
    },
    {
     "name": "stdout",
     "output_type": "stream",
     "text": [
      "[ 0.        +0.j, 0.70710678+0.j,-0.70710678+0.j,-0.        +0.j]\n"
     ]
    }
   ],
   "source": [
    "\n",
    "#this creates a QuantumCircuit object with 2 qubits and\n",
    "#2 output measurement bits\n",
    "bell = QuantumCircuit(2, 2)\n",
    "\n",
    "### YOUR CODE BEGINS ###\n",
    "\n",
    "#add the unitary gates to the bell circuit\n",
    "#ex: bell.h(1) applies hadamard to second qubit, bell.cx(0,1) applies\n",
    "#CNOT from first to second, bell.x(0) and bell.z(1) do the obvious things.\n",
    "bell.h(1)\n",
    "bell.x(0)\n",
    "bell.cx(1, 0)\n",
    "bell.z(1)\n",
    "\n",
    "### YOUR CODE ENDS ###\n",
    "\n",
    "#this measures the first two qubits and saves the results\n",
    "#into the 2 output bits\n",
    "bell.measure([0,1], [0,1])\n",
    "\n",
    "# visualize & run\n",
    "bell.draw()\n",
    "run_and_hist(bell, shots=4096)\n",
    "\n",
    "#this will print the state vector\n",
    "qc_to_sv = bell.remove_final_measurements(inplace=False)\n",
    "sv = Statevector.from_instruction(qc_to_sv)\n",
    "print(sv.draw(\"text\"))\n"
   ]
  },
  {
   "cell_type": "markdown",
   "id": "6f47995d-d313-41d7-8097-7d9b2be061f5",
   "metadata": {},
   "source": [
    "__b)__ Create a three qubit circuit that prepares the GHZ state (also known as the \"cat state\", after Schrodinger's cat):\n",
    "$$\n",
    "\\frac{1}{\\sqrt{2}} \\ket{000} + \\frac{1}{\\sqrt{2}} \\ket{111}\n",
    "$$\n",
    "and visualize the measurement outcomes."
   ]
  },
  {
   "cell_type": "code",
   "execution_count": 6,
   "id": "f49334dd-9833-4dfc-bb0d-49117896ec1f",
   "metadata": {},
   "outputs": [
    {
     "data": {
      "image/png": "[encoded data removed]",
      "text/plain": [
       "<Figure size 640x480 with 1 Axes>"
      ]
     },
     "metadata": {},
     "output_type": "display_data"
    },
    {
     "data": {
      "text/plain": [
       "{'111': 2009, '000': 2087}"
      ]
     },
     "execution_count": 6,
     "metadata": {},
     "output_type": "execute_result"
    }
   ],
   "source": [
    "\n",
    "ghz = QuantumCircuit(3, 3)\n",
    "\n",
    "### YOUR CODE BEGINS ###\n",
    "ghz.h(0)\n",
    "ghz.cx(0, 1)\n",
    "ghz.cx(0, 2)\n",
    "\n",
    "### YOUR CODE ENDS ###\n",
    "\n",
    "ghz.measure([0,1,2], [0,1,2])\n",
    "\n",
    "# visualize & run\n",
    "ghz.draw()\n",
    "run_and_hist(ghz, shots=4096)\n"
   ]
  },
  {
   "cell_type": "markdown",
   "id": "6a7ea735-4d8b-41a0-8edb-cbb343f7e7f5",
   "metadata": {},
   "source": [
    "__c)__ Create a three qubit circuit that prepares the \"biased cat state\":\n",
    "$$\n",
    "\\cos(\\pi/6) \\ket{000} + \\sin(\\pi/6) \\ket{111}\n",
    "$$\n",
    "and visualize the measurement outcomes. You may want to use the $R_y$ unitary:\n",
    "$$\n",
    "    R_y(\\theta) = \\begin{pmatrix} \\cos(\\theta/2) & -\\sin(\\theta/2) \\\\ \\sin(\\theta/2) & \\cos(\\theta/2) \\end{pmatrix}.\n",
    "$$\n"
   ]
  },
  {
   "cell_type": "code",
   "execution_count": 7,
   "id": "acfab649-bedd-40da-8f8e-c80abce12ef0",
   "metadata": {},
   "outputs": [
    {
     "data": {
      "image/png": "[encoded data removed]",
      "text/plain": [
       "<Figure size 640x480 with 1 Axes>"
      ]
     },
     "metadata": {},
     "output_type": "display_data"
    },
    {
     "data": {
      "text/plain": [
       "{'111': 1038, '000': 3058}"
      ]
     },
     "execution_count": 7,
     "metadata": {},
     "output_type": "execute_result"
    }
   ],
   "source": [
    "biased_ghz = QuantumCircuit(3, 3)\n",
    "\n",
    "### YOUR CODE BEGINS ###\n",
    "\n",
    "#you can call the R_y(theta) gate on qubit number b via biased_ghz.ry(theta,b).\n",
    "biased_ghz.ry(np.pi/3,0)\n",
    "biased_ghz.cx(0,1)\n",
    "biased_ghz.cx(0,2)\n",
    "\n",
    "### YOUR CODE ENDS ###\n",
    "\n",
    "biased_ghz.measure([0,1,2], [0,1,2])\n",
    "\n",
    "# visualize & run\n",
    "biased_ghz.draw()\n",
    "run_and_hist(biased_ghz, shots=4096)"
   ]
  },
  {
   "cell_type": "markdown",
   "id": "60c767f3-c9af-4ce7-b585-72f40645a187",
   "metadata": {},
   "source": [
    "# Problem 4: Deutsch-Jozsa\n",
    "\n",
    "We covered the Deutsch-Jozsa algorithm in class. Now you will implement it in Qiskit and see for yourself that it works."
   ]
  },
  {
   "cell_type": "markdown",
   "id": "085c880d-c0db-4453-9f85-95b2b1414c71",
   "metadata": {},
   "source": [
    "__a)__ Consider the function $f(x_1,x_2,x_3) = 1$ if and only if at least two of three inputs are $1$ (i.e., this is the \"majority\" function). By expanding its truth table you can see that it is balanced. Write a quantum circuit in qiskit, consisting only of TOFFOLI, CNOT, and X gates, perhaps using some ancilla, that cleanly implements $R_f$."
   ]
  },
  {
   "cell_type": "code",
   "execution_count": 9,
   "id": "f3d472c5-1491-4520-8d8d-41987ced400b",
   "metadata": {},
   "outputs": [],
   "source": [
    "def majority():\n",
    "    #3 input qubits, 1 target, but you can add more ancillas if you need to\n",
    "    # (just change 4 to whatever you need)\n",
    "    qc = QuantumCircuit(4)\n",
    "    \n",
    "    ###YOUR CODE BEGINS ####\n",
    "\n",
    "    #TOFFOLI: qc.ccx(0,1,2) control on first two qubits, target on third\n",
    "    #CNOT: qc.cx(0,1) control on first, target on second\n",
    "    #X: qc.x(0)\n",
    "    qc.ccx(0, 1, 3)\n",
    "    qc.ccx(1, 2, 3)\n",
    "    qc.ccx(0, 2, 3)\n",
    "\n",
    "    ###YOUR CODE ENDS ###\n",
    "    return qc"
   ]
  },
  {
   "cell_type": "markdown",
   "id": "6e7364bf-d2f9-47d3-8697-788cd809d246",
   "metadata": {},
   "source": [
    "__b)__ We implemented a constant function for you ($f(x_1,x_2,x_3) = 1$ for all inputs). Below, implement the Deutsch-Jozsa algorithm and visualize the output statistics in both the balanced and constant case. See the differences?"
   ]
  },
  {
   "cell_type": "code",
   "execution_count": 12,
   "id": "81d91aac-4503-4b2b-a0c3-6009472c17b1",
   "metadata": {},
   "outputs": [
    {
     "name": "stdout",
     "output_type": "stream",
     "text": [
      "Showing histogram for Deutsch-Jozsa with Constant oracle\n"
     ]
    },
    {
     "data": {
      "image/png": "[encoded data removed]",
      "text/plain": [
       "<Figure size 640x480 with 1 Axes>"
      ]
     },
     "metadata": {},
     "output_type": "display_data"
    },
    {
     "name": "stdout",
     "output_type": "stream",
     "text": [
      "Showing histogram for Deutsch-Jozsa with Balanced oracle\n"
     ]
    },
    {
     "data": {
      "image/png": "[encoded data removed]",
      "text/plain": [
       "<Figure size 640x480 with 1 Axes>"
      ]
     },
     "metadata": {},
     "output_type": "display_data"
    }
   ],
   "source": [
    "\n",
    "def constant():\n",
    "    #3 input qubits, 1 target\n",
    "    qc = QuantumCircuit(4)\n",
    "    \n",
    "    qc.x(3)    #it flips the last target bit to 1 when the target bit starts in 0\n",
    "    return qc\n",
    "\n",
    "\n",
    "def deutsch_jozsa(oracle):\n",
    "    #You can change number of ancillas\n",
    "    NUM_ANCILLAS = 0\n",
    "    \n",
    "    qc = QuantumCircuit(4 + NUM_ANCILLAS,3) #3 input qubits, 1 target, only measure the first three\n",
    "\n",
    "    ### YOUR CODE BEGINS ###\n",
    "\n",
    "    #fill in the rest here, we've included the oracle call for you\n",
    "    qc.x(3)\n",
    "    qc.h(0)\n",
    "    qc.h(1)\n",
    "    qc.h(2)\n",
    "    qc.h(3)\n",
    "\n",
    "    # the following calls the oracle\n",
    "    qc.compose(oracle, inplace=True)\n",
    "\n",
    "    qc.h(0)\n",
    "    qc.h(1)\n",
    "    qc.h(2)\n",
    "\n",
    "    ### YOUR CODE ENDS ###\n",
    "\n",
    "    # measure inputs\n",
    "    qc.measure([0,1,2], [0,1,2])\n",
    "    return qc\n",
    "\n",
    "# Run and visualize\n",
    "circ_bal = deutsch_jozsa(majority())\n",
    "circ_const   = deutsch_jozsa(constant())\n",
    "\n",
    "for name, circ in [(\"Constant\", circ_const), (\"Balanced\", circ_bal)]:\n",
    "    print(\"Showing histogram for Deutsch-Jozsa with \" + name + \" oracle\")\n",
    "    run_and_hist(circ, shots=4096)\n",
    "\n",
    "    "
   ]
  },
  {
   "attachments": {},
   "cell_type": "markdown",
   "id": "812481c3-397c-49f5-91e6-a9f97aca80b1",
   "metadata": {},
   "source": [
    "# Problem 5: Let's Play a (Nonlocal) Game\n",
    "In class we learned about the CHSH game, let's consider another game, called _Let's Confuse The Referee_.   \n",
    "\n",
    "The game is inspired by the following simple fact: the vertices in the following graph cannot be colored red or blue such that adjacent vertices have different colors. In other words, the triangle is not $2$-colorable. \n",
    "\n",
    "<img src=\"triangle.png\" width=350 />\n",
    "\n",
    "Nonetheless, Alice and Bob decide to make a game to convince a third party, called the referee, that it _is_ possible to $2$-color a triangle. (They have a lot of time on their hands, clearly). Consider the following game:\n",
    "\n",
    "1. Referee picks a vertex $s$ in the graph ($0$, $1$, or $2$) uniformly at random, and sends $s$ to Alice.\n",
    "2. Referee picks a $t$ that is either $s$ or $s+1 \\mod 3$ with $\\frac{1}{2}$ probability each, and then sends $t$ to Bob. \n",
    "3. Alice and Bob have to give colors \"red\" or \"blue\" back to Referee.\n",
    "4. If $s = t$, then Alice and Bob win if they give the same color. If $s \\neq t$, then Alice and Bob win if they have different colors."
   ]
  },
  {
   "cell_type": "markdown",
   "id": "179d219c-7a1c-4168-9565-76ad0864267d",
   "metadata": {},
   "source": [
    "**a)** What is the best probability that any local hidden variable (LHV) strategy for Alice and Bob can win this game?"
   ]
  },
  {
   "cell_type": "markdown",
   "id": "35943985-5dcf-46e7-8d77-2c7f28bdb4b2",
   "metadata": {},
   "source": [
    "### Your Solution:\n",
    "Alice drew a triangle and tried to avoid adjacent vertices with same color. And Bob copied this triangle. Say 0 is blue, 1 is red, and 2 is blue.\n",
    "w.p. $\\frac{1}{2}$, Alice and Bob get same vertex and they give correct answer.\n",
    "w.p. $\\frac{1}{2}$, Alice and Bob get adjacent vertices. The pairs of different color are 01, 12, while the number of all pairs is three. So win probability is $\\frac{2}{3}$.\n",
    "\n",
    "$\\frac{1}{2} \\cdot 1 + \\frac{1}{2}\\frac{2}{3} = \\frac{5}{6}$"
   ]
  },
  {
   "cell_type": "markdown",
   "id": "a0c4e035-c128-48c2-8cf1-86475e39750e",
   "metadata": {},
   "source": [
    "**b)** In this part you will come up with a _quantum strategy_ for Alice and Bob to beat the LHV (i.e. classical) winning probability. You will code up a strategy by specifying a measurement for Alice that depends on her question $s$, and a measurement for Bob that depends on his question $t$. We assume that Alice and Bob share a single EPR pair $\\frac{1}{\\sqrt{2}} \\Big( \\ket{00} + \\ket{11} \\Big)$. \n",
    "\n",
    "So in `alice_strategy` for example, you will write based on Alice's question $s$ (which is $0$, $1$ or $2$) what single-qubit gates Alice performs on her half of the EPR pair (which is qubit 0). Afterwards, her qubit is measured in the standard basis to obtain $0$ or $1$ (which correspond to \"red\" or \"blue\"). You will do a similar thing for Bob, except he is supposed to act on his qubit (which is qubit 1).\n",
    "\n",
    "You're allowed to use any single-qubit gate we learned in class, or you can also make your own. For example, if you wanted Alice to apply the unitary $U = \\frac{1}{2} \\begin{pmatrix} 1 & \\sqrt{3} \\\\ \\sqrt{3} & -1 \\end{pmatrix}$ to her qubit, then you can write\n",
    "\n",
    "`U = np.array([[0.5,0.5*np.sqrt(3)],[0.5*np.sqrt(3),-0.5]])`\n",
    "\n",
    "`qc.unitary(U,[0],label=\"Alice\")`\n",
    "\n",
    "Try to beat the LHV winning probability and get the best winning probability you can!\n",
    "\n",
    "Hint: use the CHSH strategy for inspiration."
   ]
  },
  {
   "cell_type": "code",
   "execution_count": null,
   "id": "69155e71-7d42-4a76-a85d-a9768efad3a8",
   "metadata": {},
   "outputs": [],
   "source": [
    "def alice_strategy(qc, s):\n",
    "    '''\n",
    "        qc: QuantumCircuit object that contains two qubits. Alice should only act on qubit 0!\n",
    "        s: Alice's question, which is either 0, 1, or 2\n",
    "    '''\n",
    "    # ========= BEGIN YOUR CODE =================\n",
    "    \n",
    "    if s == 0:\n",
    "        pass\n",
    "    elif s == 1:\n",
    "        pass\n",
    "    elif s == 2:\n",
    "        pass\n",
    "    \n",
    "    # ========= END YOUR CODE =================\n",
    "    return qc\n",
    "\n",
    "def bob_strategy(qc,t):\n",
    "    '''\n",
    "        qc: QuantumCircuit object that contains two qubits. Bob should only act on qubit 1!\n",
    "        t: Bob's question,  which is either 0, 1, or 2\n",
    "    '''\n",
    "\n",
    "    # ========= BEGIN YOUR CODE =================\n",
    "    \n",
    "    if t == 0:\n",
    "        pass\n",
    "    elif t == 1:\n",
    "        pass\n",
    "    elif t == 2:\n",
    "        pass\n",
    "        \n",
    "    # ========= END YOUR CODE =================\n",
    "    return qc"
   ]
  },
  {
   "cell_type": "markdown",
   "id": "82576676-bb49-4a5c-a7b8-bc74e03ac2c3",
   "metadata": {},
   "source": [
    "The following code will test how well your strategy performs."
   ]
  },
  {
   "cell_type": "code",
   "execution_count": null,
   "id": "54997228-cb2d-4c0c-ba3d-79a086ef1f47",
   "metadata": {},
   "outputs": [],
   "source": [
    "def play_game(s,t):\n",
    "    #\n",
    "    qc = QuantumCircuit(2,2)\n",
    "\n",
    "    #build the EPR pair\n",
    "    qc.h(0)\n",
    "    qc.cx(0,1)\n",
    "\n",
    "    #apply Alice's strategy\n",
    "    qc = alice_strategy(qc,s)\n",
    "\n",
    "    #apply Bob's strategy\n",
    "    qc = bob_strategy(qc,t)\n",
    "\n",
    "    #measure the qubits\n",
    "    qc.measure([0,1],[0,1])\n",
    "    \n",
    "    \n",
    "    total_shots = 5024\n",
    "    tqc = transpile(qc, backend=backend)\n",
    "    result = backend.run(qc, shots=total_shots).result()\n",
    "    measurements = result.get_counts()\n",
    "    \n",
    "    winning_shots = 0\n",
    "    if s == t:\n",
    "        for measurement in measurements:\n",
    "            if measurement[0] == measurement[1]:\n",
    "                # Win this game\n",
    "                winning_shots += measurements[measurement]\n",
    "    else:\n",
    "        for measurement in measurements:\n",
    "            if measurement[0] != measurement[1]:\n",
    "                # Win this game\n",
    "                winning_shots += measurements[measurement]\n",
    "    return winning_shots / total_shots\n",
    "\n",
    "winning_probability = 0.0\n",
    "for i in range(3):\n",
    "    winning_probability += play_game(i, i)\n",
    "    winning_probability += play_game(i, (i + 1) % 3)\n",
    "print(\"Average Winning Probability: \", winning_probability / 6)"
   ]
  },
  {
   "cell_type": "markdown",
   "id": "e43c2385-4866-4dab-96f5-6d17700cce2f",
   "metadata": {},
   "source": [
    "**c)** Describe the strategy that you chose, and algebraically compute its winning probability (i.e. carry out a calculation similar to how the quantum strategy for CHSH was analyzed in class), and confirm it matches the numerics above."
   ]
  },
  {
   "cell_type": "markdown",
   "id": "0b28942e-8290-47d5-8191-a30df2095326",
   "metadata": {},
   "source": [
    "### Your Solution:\n",
    "\n",
    "_write your solution here, using LaTeX and Markdown_"
   ]
  },
  {
   "cell_type": "code",
   "execution_count": null,
   "id": "a53478ee-885e-430a-9ffe-37ffb58af840",
   "metadata": {},
   "outputs": [],
   "source": []
  }
 ],
 "metadata": {
  "colab": {
   "provenance": []
  },
  "kernelspec": {
   "display_name": "Python 3 [Default]",
   "language": "python",
   "name": "python3"
  },
  "language_info": {
   "codemirror_mode": {
    "name": "ipython",
    "version": 3
   },
   "file_extension": ".py",
   "mimetype": "text/x-python",
   "name": "python",
   "nbconvert_exporter": "python",
   "pygments_lexer": "ipython3",
   "version": "3.11.9"
  },
  "varInspector": {
   "cols": {
    "lenName": 16,
    "lenType": 16,
    "lenVar": 40
   },
   "kernels_config": {
    "python": {
     "delete_cmd_postfix": "",
     "delete_cmd_prefix": "del ",
     "library": "var_list.py",
     "varRefreshCmd": "print(var_dic_list())"
    },
    "r": {
     "delete_cmd_postfix": ") ",
     "delete_cmd_prefix": "rm(",
     "library": "var_list.r",
     "varRefreshCmd": "cat(var_dic_list()) "
    }
   },
   "types_to_exclude": [
    "module",
    "function",
    "builtin_function_or_method",
    "instance",
    "_Feature"
   ],
   "window_display": false
  },
  "vscode": {
   "interpreter": {
    "hash": "31f2aee4e71d21fbe5cf8b01ff0e069b9275f58929596ceb00d14d90e3e16cd6"
   }
  }
 },
 "nbformat": 4,
 "nbformat_minor": 5
}
